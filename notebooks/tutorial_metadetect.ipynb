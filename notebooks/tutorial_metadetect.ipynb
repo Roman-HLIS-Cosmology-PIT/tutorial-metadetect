{
 "cells": [
  {
   "cell_type": "code",
   "execution_count": 1,
   "id": "23aa980d",
   "metadata": {},
   "outputs": [
    {
     "name": "stderr",
     "output_type": "stream",
     "text": [
      "/Users/aguinot/miniconda3/envs/tutorial_metadetect/lib/python3.13/site-packages/metadetect/fitting.py:12: UserWarning: pkg_resources is deprecated as an API. See https://setuptools.pypa.io/en/latest/pkg_resources.html. The pkg_resources package is slated for removal as early as 2025-11-30. Refrain from using this package or pin to Setuptools<81.\n",
      "  from pkg_resources import parse_version\n"
     ]
    }
   ],
   "source": [
    "import sys\n",
    "from pathlib import Path\n",
    "# Set path for external modules\n",
    "code_dir = Path(\"../utils\").resolve()\n",
    "if str(code_dir) not in sys.path:\n",
    "    sys.path.insert(0, str(code_dir))\n",
    "import copy\n",
    "\n",
    "import numpy as np\n",
    "\n",
    "import galsim\n",
    "\n",
    "import ngmix\n",
    "import metadetect\n",
    "\n",
    "import sep\n",
    "\n",
    "import matplotlib.pyplot as plt\n",
    "\n",
    "from make_data import *\n",
    "from noise_utils import *\n",
    "from shear_meas import *\n",
    "from metadetect_utils import *"
   ]
  },
  {
   "cell_type": "markdown",
   "id": "b9d1dc9d",
   "metadata": {},
   "source": [
    "# Tutorial Metadetection\n",
    "\n",
    "All the biases corrected by **Metacalibration** can also be corrected by **Metadetection**. This time we will focus on detection effects, which are mainly (but not limited to!) due to blending.\n",
    "\n",
    "**Metadetection** was first introduced in [Sheldon et al. (2023)](https://arxiv.org/abs/1911.02505) and a first application on data can be seen in [Yamamoto et al. (2025)](https://arxiv.org/abs/2501.05665).\n",
    "\n",
    "#### Difference with Metacalibration\n",
    "\n",
    "![title](notebook_data/metacal_to_metadetect_workflow.png)\n",
    "\n",
    "This time we will apply a shear on a larger image than before, typically $\\approx 1~\\rm{arcmin}^{2}$. That means that we are making 2 assumptions:\n",
    "- WCS are considered constant. Cen be represented by a simple Jacobian matrix.\n",
    "- PSF is considered constant. The PSF defined at the center of the image is a good representation of the PSF at all locations in the image.  \n",
    "\n",
    "This is the reason why for DES and DESC we see *cell-based* coadds which are smaller than usual coadds **and** only include exposures that are fully contain in the cell foot print, no exposure edges to ensure that the PSF is properlly defined (recently Erin Sheldon has demonstrated that this condition does not need to be enforce and if edges are properly handled they can be included (Sheldon et al. *in prep*)).\n",
    "\n",
    "\n",
    "#### **Disclaimer**\n",
    "We will not discuss the redshift dependent bias due to blending of galaxies at different redshift. See [MacCrann, Becker et al. (2022)](https://arxiv.org/abs/2012.08567) for an exhaustive description of the effect and calibration with simulation.\n",
    "\n",
    "## Why do we need Metadetection?"
   ]
  },
  {
   "cell_type": "code",
   "execution_count": 2,
   "id": "78932b10",
   "metadata": {},
   "outputs": [],
   "source": [
    "pixel_scale = 0.2\n",
    "psf_model = \"gauss\"\n",
    "psf_fwhm = 0.6\n",
    "noise_sigma = 1e-5\n",
    "separation = 7."
   ]
  },
  {
   "cell_type": "markdown",
   "id": "0af31e9c",
   "metadata": {},
   "source": [
    "#### Image with positive shear on g1"
   ]
  },
  {
   "cell_type": "code",
   "execution_count": 3,
   "id": "b95a4ae7",
   "metadata": {},
   "outputs": [
    {
     "data": {
      "text/plain": [
       "1"
      ]
     },
     "execution_count": 3,
     "metadata": {},
     "output_type": "execute_result"
    }
   ],
   "source": [
    "gal_p, psf, _ = make_data_metadetect_simple(\n",
    "    separation=separation,\n",
    "    g1=0.05,\n",
    "    pixel_scale=pixel_scale,\n",
    "    psf_model=psf_model,\n",
    "    psf_fwhm=psf_fwhm,\n",
    "    noise_sigma=noise_sigma,\n",
    "    do_shift=False,\n",
    ")\n",
    "\n",
    "obj_p = sep.extract(\n",
    "    gal_p,\n",
    "    err=noise_sigma,\n",
    "    thresh=1.5,\n",
    ")\n",
    "len(obj_p)"
   ]
  },
  {
   "cell_type": "markdown",
   "id": "1ea07821",
   "metadata": {},
   "source": [
    "#### Image with negative shear on g1"
   ]
  },
  {
   "cell_type": "code",
   "execution_count": 4,
   "id": "106cb403",
   "metadata": {},
   "outputs": [
    {
     "data": {
      "text/plain": [
       "2"
      ]
     },
     "execution_count": 4,
     "metadata": {},
     "output_type": "execute_result"
    }
   ],
   "source": [
    "gal_m, psf, _ = make_data_metadetect_simple(\n",
    "    separation=separation,\n",
    "    g1=-0.05,\n",
    "    pixel_scale=pixel_scale,\n",
    "    psf_model=psf_model,\n",
    "    psf_fwhm=psf_fwhm,\n",
    "    noise_sigma=noise_sigma,\n",
    "    do_shift=False,\n",
    ")\n",
    "\n",
    "obj_m = sep.extract(\n",
    "    gal_m,\n",
    "    err=noise_sigma,\n",
    "    thresh=1.5,\n",
    ")\n",
    "len(obj_m)"
   ]
  },
  {
   "cell_type": "code",
   "execution_count": 5,
   "id": "d31e364d",
   "metadata": {},
   "outputs": [
    {
     "data": {
      "text/plain": [
       "<matplotlib.legend.Legend at 0x34bcc9d30>"
      ]
     },
     "execution_count": 5,
     "metadata": {},
     "output_type": "execute_result"
    },
    {
     "data": {
      "image/png": "[encoded data removed]",
      "text/plain": [
       "<Figure size 1200x600 with 2 Axes>"
      ]
     },
     "metadata": {},
     "output_type": "display_data"
    }
   ],
   "source": [
    "fig, axs = plt.subplots(1, 2, figsize=(12, 6))\n",
    "axs[0].set_title(\"g1=0.05\")\n",
    "axs[0].imshow(gal_p, origin=\"lower\", cmap='gray')\n",
    "axs[0].plot(obj_p['x'], obj_p['y'], 'ro', markersize=2)\n",
    "\n",
    "axs[1].set_title(\"g1=-0.05\")\n",
    "axs[1].imshow(gal_m, origin=\"lower\", cmap='gray')\n",
    "axs[1].plot(obj_m['x'], obj_m['y'], 'ro', markersize=2, label=\"detection\")\n",
    "axs[1].legend()\n"
   ]
  },
  {
   "cell_type": "markdown",
   "id": "a36adeb8",
   "metadata": {},
   "source": [
    "Here we can see the problem. Depending on the shear, the blend will be detected or not and that would create a bias."
   ]
  },
  {
   "cell_type": "markdown",
   "id": "891212d1",
   "metadata": {},
   "source": [
    "## Metadetection in practice"
   ]
  },
  {
   "cell_type": "markdown",
   "id": "a1fa5219",
   "metadata": {},
   "source": [
    "#### Step 1: Apply Metacalibration"
   ]
  },
  {
   "cell_type": "code",
   "execution_count": 6,
   "id": "41348df9",
   "metadata": {},
   "outputs": [],
   "source": [
    "pixel_scale = 0.2\n",
    "psf_model = \"gauss\"\n",
    "psf_fwhm = 0.6\n",
    "noise_sigma = 1e-5\n",
    "separation = 25\n",
    "image_size = 61\n",
    "rng = np.random.RandomState(42)\n",
    "\n",
    "gal, psf, _ = make_data_metadetect_simple(\n",
    "    separation=separation,\n",
    "    pixel_scale=pixel_scale,\n",
    "    psf_model=psf_model,\n",
    "    psf_fwhm=psf_fwhm,\n",
    "    noise_sigma=noise_sigma,\n",
    "    image_size=image_size,\n",
    "    do_shift=False,\n",
    ")\n",
    "\n",
    "img_shape = gal.shape\n",
    "psf_shape = psf.shape\n",
    "\n",
    "img_center = ((img_shape[1]-1)/2., (img_shape[0]-1)/2.)\n",
    "psf_center = ((psf_shape[1]-1)/2., (psf_shape[0]-1)/2.)\n",
    "\n",
    "# Ngmix handles the WCS with a Jacobian transformation\n",
    "img_jacob = ngmix.DiagonalJacobian(\n",
    "    row=img_center[1],\n",
    "    col=img_center[0],\n",
    "    scale=pixel_scale,\n",
    ")\n",
    "psf_jacob = ngmix.DiagonalJacobian(\n",
    "    row=psf_center[1],\n",
    "    col=psf_center[0],\n",
    "    scale=pixel_scale,\n",
    ")\n",
    "\n",
    "# We first create a PSF observation\n",
    "psf_obs = ngmix.Observation(\n",
    "    image=psf,\n",
    "    jacobian=psf_jacob,\n",
    ")\n",
    "\n",
    "# Then we create the object observation and we pass the PSF observation\n",
    "obs = ngmix.Observation(\n",
    "    image=gal,\n",
    "    weight=np.ones(img_shape) * 1/noise_sigma**2,  # Weights are inverse variance\n",
    "    jacobian=img_jacob,\n",
    "    psf=psf_obs,\n",
    "    bmask=np.zeros(img_shape, dtype=np.int32),\n",
    "    ormask=np.zeros(img_shape, dtype=np.int32),\n",
    ")\n",
    "\n",
    "obs_mcal = ngmix.metacal.get_all_metacal(\n",
    "    obs,\n",
    "    psf=\"fitgauss\",\n",
    "    step=0.01,\n",
    "    fixnoise=True, # We will see justr after the effect of this\n",
    "    types=[\"noshear\", \"1p\"],\n",
    "    rng=rng,\n",
    ")"
   ]
  },
  {
   "cell_type": "code",
   "execution_count": 7,
   "id": "6e86c094",
   "metadata": {},
   "outputs": [
    {
     "data": {
      "text/plain": [
       "<matplotlib.image.AxesImage at 0x3539f4e10>"
      ]
     },
     "execution_count": 7,
     "metadata": {},
     "output_type": "execute_result"
    },
    {
     "data": {
      "image/png": "[encoded data removed]",
      "text/plain": [
       "<Figure size 640x480 with 1 Axes>"
      ]
     },
     "metadata": {},
     "output_type": "display_data"
    }
   ],
   "source": [
    "plt.imshow(gal, origin=\"lower\", cmap='gray')"
   ]
  },
  {
   "cell_type": "markdown",
   "id": "f74b5758",
   "metadata": {},
   "source": [
    "#### Step 2: Run detection"
   ]
  },
  {
   "cell_type": "code",
   "execution_count": 8,
   "id": "edb9b0f1",
   "metadata": {},
   "outputs": [],
   "source": [
    "det_cat = {}\n",
    "for shear_type in obs_mcal:\n",
    "    img = obs_mcal[shear_type].image.copy()\n",
    "    weight = obs_mcal[shear_type].weight.copy()\n",
    "\n",
    "    rms = np.sqrt(1. / np.median(weight))\n",
    "\n",
    "    cat = sep.extract(\n",
    "        img,\n",
    "        err=rms,\n",
    "        thresh=1.5,\n",
    "    )\n",
    "\n",
    "    det_cat[shear_type] = cat"
   ]
  },
  {
   "cell_type": "code",
   "execution_count": 9,
   "id": "af64cb5b",
   "metadata": {},
   "outputs": [
    {
     "data": {
      "text/plain": [
       "[<matplotlib.lines.Line2D at 0x3536b7ed0>]"
      ]
     },
     "execution_count": 9,
     "metadata": {},
     "output_type": "execute_result"
    },
    {
     "data": {
      "image/png": "[encoded data removed]",
      "text/plain": [
       "<Figure size 640x480 with 1 Axes>"
      ]
     },
     "metadata": {},
     "output_type": "display_data"
    }
   ],
   "source": [
    "plt.imshow(obs_mcal[\"noshear\"].image, origin=\"lower\", cmap='gray')\n",
    "plt.plot(det_cat[\"noshear\"]['x'], det_cat[\"noshear\"]['y'], 'ro', markersize=2)"
   ]
  },
  {
   "cell_type": "markdown",
   "id": "e6e0f4b8",
   "metadata": {},
   "source": [
    "#### Step 3: Make cutout around each objects"
   ]
  },
  {
   "cell_type": "code",
   "execution_count": 10,
   "id": "45d0e698",
   "metadata": {},
   "outputs": [],
   "source": [
    "stamp, row, col, ostart_row, ostart_col, oend_row, oend_col = get_cutout(obs_mcal[\"noshear\"].image, det_cat[\"noshear\"]['x'][0], det_cat[\"noshear\"]['y'][0], 31, return_bounds=True)"
   ]
  },
  {
   "cell_type": "code",
   "execution_count": 11,
   "id": "7f7009af",
   "metadata": {},
   "outputs": [
    {
     "data": {
      "text/plain": [
       "<matplotlib.legend.Legend at 0x35385efd0>"
      ]
     },
     "execution_count": 11,
     "metadata": {},
     "output_type": "execute_result"
    },
    {
     "data": {
      "image/png": "[encoded data removed]",
      "text/plain": [
       "<Figure size 640x480 with 1 Axes>"
      ]
     },
     "metadata": {},
     "output_type": "display_data"
    }
   ],
   "source": [
    "plt.imshow(gal, origin=\"lower\", cmap='gray')\n",
    "plt.plot(det_cat[\"noshear\"]['x'][0], det_cat[\"noshear\"]['y'][0], 'ro', markersize=2, label=\"detection\")\n",
    "plt.plot([ostart_col, oend_col, oend_col, ostart_col, ostart_col], [ostart_row, ostart_row, oend_row, oend_row, ostart_row], 'r--', label=\"cutout bounds\")\n",
    "plt.legend()"
   ]
  },
  {
   "cell_type": "markdown",
   "id": "cd2048ef",
   "metadata": {},
   "source": [
    "#### Step 4: Measure the shape"
   ]
  },
  {
   "cell_type": "code",
   "execution_count": 12,
   "id": "1861fbfa",
   "metadata": {},
   "outputs": [],
   "source": [
    "shear_dict = {}\n",
    "for shear_type in obs_mcal:\n",
    "    shear_dict[shear_type] = {\n",
    "        \"g1\": [],\n",
    "        \"g2\": [],\n",
    "    }\n",
    "    for cat_obj in det_cat[shear_type]:\n",
    "        stamp, row, col = get_cutout(obs_mcal[shear_type].image, cat_obj['x'], cat_obj['y'], 31)\n",
    "        meas_shape = galsim.hsm.EstimateShear(\n",
    "            galsim.Image(stamp, scale=pixel_scale),\n",
    "            galsim.Image(obs_mcal[shear_type].psf.image, scale=pixel_scale)\n",
    "        )\n",
    "        s = galsim.Shear(e1=meas_shape.corrected_e1, e2=meas_shape.corrected_e2)\n",
    "        shear_dict[shear_type][\"g1\"].append(s.g1)\n",
    "        shear_dict[shear_type][\"g2\"].append(s.g2)"
   ]
  },
  {
   "cell_type": "code",
   "execution_count": 13,
   "id": "0b7071be",
   "metadata": {},
   "outputs": [
    {
     "name": "stdout",
     "output_type": "stream",
     "text": [
      "We check that we recover the shear we have applied:\n",
      "Input shear 'noshear':\n",
      "n_obj: 2   target: 2\n",
      "g1=3.567196870596924e-06   target: 0.0\n",
      "g2=0.00010096954431647856  target: 0.0\n",
      "\n",
      "Input shear '1p':\n",
      "n_obj: 2   target: 2\n",
      "g1=0.009994662701618081    target: 0.01\n",
      "g2=0.00010306493753342108  target: 0.0\n"
     ]
    }
   ],
   "source": [
    "print(\"We check that we recover the shear we have applied:\")\n",
    "print(f\"Input shear 'noshear':\\nn_obj: {len(shear_dict['noshear']['g1'])}   target: 2\\ng1={np.mean(shear_dict['noshear']['g1'])}   target: 0.0\\ng2={np.mean(shear_dict['noshear']['g2'])}  target: 0.0\")\n",
    "print()\n",
    "print(f\"Input shear '1p':\\nn_obj: {len(shear_dict['1p']['g1'])}   target: 2\\ng1={np.mean(shear_dict['1p']['g1'])}    target: 0.01\\ng2={np.mean(shear_dict['1p']['g2'])}  target: 0.0\")"
   ]
  },
  {
   "cell_type": "markdown",
   "id": "6cccb719",
   "metadata": {},
   "source": [
    "## Now we can do it automatically with metadetect"
   ]
  },
  {
   "cell_type": "markdown",
   "id": "07a3b7b5",
   "metadata": {},
   "source": [
    "ngmix works with [**Observation**](https://github.com/esheldon/ngmix/blob/d08b471f4c4d5887df9f9f2551efaf8f2e226150/ngmix/observation.py#L66)\n",
    "\n",
    "But we can define a list of **Observations** for multiple observation of an object with [**ObsList**](https://github.com/esheldon/ngmix/blob/d08b471f4c4d5887df9f9f2551efaf8f2e226150/ngmix/observation.py#L861), we can also define a list of **ObsList** for observations in multiple bands with [**MultiBandObsList**](https://github.com/esheldon/ngmix/blob/d08b471f4c4d5887df9f9f2551efaf8f2e226150/ngmix/observation.py#L980)\n",
    "\n",
    "Metadetection take a **MultiBandObsList** as input.\n"
   ]
  },
  {
   "cell_type": "code",
   "execution_count": 14,
   "id": "fcd44edd",
   "metadata": {},
   "outputs": [],
   "source": [
    "obslist = ngmix.ObsList()\n",
    "mb_obslist = ngmix.MultiBandObsList()\n",
    "\n",
    "obslist.append(obs)\n",
    "mb_obslist.append(obslist)"
   ]
  },
  {
   "cell_type": "code",
   "execution_count": 15,
   "id": "dec37629",
   "metadata": {},
   "outputs": [],
   "source": [
    "cfg = copy.deepcopy(TEST_METADETECT_CONFIG)\n",
    "cfg[\"model\"] = \"gauss\"\n",
    "cfg[\"metacal\"][\"types\"] = [\"noshear\", \"1p\", \"1m\"]\n",
    "\n",
    "res = metadetect.do_metadetect(\n",
    "    copy.deepcopy(cfg),\n",
    "    mb_obslist,\n",
    "    np.random.RandomState(42),\n",
    ")"
   ]
  },
  {
   "cell_type": "code",
   "execution_count": 16,
   "id": "7f59047c",
   "metadata": {},
   "outputs": [
    {
     "name": "stdout",
     "output_type": "stream",
     "text": [
      "We check that we recover the shear we have applied:\n",
      "Input shear 'noshear':\n",
      "n_obj: 2   target: 2\n",
      "g1=3.372142056134505e-05   target: 0.0\n",
      "g2=-0.00014140702351635336  target: 0.0\n",
      "\n",
      "Input shear '1p':\n",
      "n_obj: 2   target: 2\n",
      "g1=0.010007922305633785    target: 0.01\n",
      "g2=-0.0001387879286537961  target: 0.0\n"
     ]
    }
   ],
   "source": [
    "print(\"We check that we recover the shear we have applied:\")\n",
    "print(f\"Input shear 'noshear':\\nn_obj: {len(res['noshear']['gauss_g'])}   target: 2\\ng1={np.mean(res['noshear']['gauss_g'][:, 0])}   target: 0.0\\ng2={np.mean(res['noshear']['gauss_g'][:, 1])}  target: 0.0\")\n",
    "print()\n",
    "print(f\"Input shear '1p':\\nn_obj: {len(res['1p']['gauss_g'])}   target: 2\\ng1={np.mean(res['1p']['gauss_g'][:, 0])}    target: 0.01\\ng2={np.mean(res['1p']['gauss_g'][:, 1])}  target: 0.0\")"
   ]
  },
  {
   "cell_type": "code",
   "execution_count": null,
   "id": "737f33ce",
   "metadata": {},
   "outputs": [],
   "source": []
  }
 ],
 "metadata": {
  "kernelspec": {
   "display_name": "tutorial_metadetect",
   "language": "python",
   "name": "python3"
  },
  "language_info": {
   "codemirror_mode": {
    "name": "ipython",
    "version": 3
   },
   "file_extension": ".py",
   "mimetype": "text/x-python",
   "name": "python",
   "nbconvert_exporter": "python",
   "pygments_lexer": "ipython3",
   "version": "3.13.5"
  }
 },
 "nbformat": 4,
 "nbformat_minor": 5
}
