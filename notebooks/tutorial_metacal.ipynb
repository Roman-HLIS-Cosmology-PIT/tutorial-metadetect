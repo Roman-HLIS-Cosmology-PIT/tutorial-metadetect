{
 "cells": [
  {
   "cell_type": "code",
   "execution_count": 1,
   "id": "ad5cddf8",
   "metadata": {},
   "outputs": [],
   "source": [
    "import sys\n",
    "from pathlib import Path\n",
    "# Set path for external modules\n",
    "code_dir = Path(\"../utils\").resolve()\n",
    "if str(code_dir) not in sys.path:\n",
    "    sys.path.insert(0, str(code_dir))\n",
    "\n",
    "import numpy as np\n",
    "\n",
    "import galsim\n",
    "\n",
    "import ngmix\n",
    "\n",
    "import matplotlib.pyplot as plt\n",
    "\n",
    "from make_data import *\n",
    "from noise_utils import *\n",
    "from shear_meas import *"
   ]
  },
  {
   "cell_type": "markdown",
   "id": "59daa08e",
   "metadata": {},
   "source": [
    "# Tutorial Metacalibration\n",
    "\n",
    "When we try to extract shear from galaxy shapes we have to calibrate for biases coming from several sources:\n",
    "- galaxy model\n",
    "- noise\n",
    "- selection effects\n",
    "- detection\n",
    "\n",
    "Before, we used simulations to calibrate those biases but **Metacalibration** propose a fully data driven approach to calibrate them.  \n",
    "We can defined the measured galaxy ellipticities $e^{\\rm{obs}}$ as:\n",
    "```math\n",
    "e^{\\rm{obs}} = (1+m)\\gamma + c\n",
    "```\n",
    "where $\\gamma$ is the shear, $c$ additive biases and $m$ the multiplicative biases we are interested in.  \n",
    "Measuring the multiplicative biases is equivalent to measuring the response, $R$, of our estimator to an applied shear. We can write this as:\n",
    "```math\n",
    "(1+m) = R = \\frac{\\partial e}{\\partial \\gamma}\n",
    "```\n",
    "This is the principle behind **Metacalibration** see [Huff & Mandelbaum (2017)](https://arxiv.org/abs/1702.02600) and [Sheldon & Huff (2017)](https://arxiv.org/abs/1702.02601).\n",
    "\n",
    "## Metacalibration in practice\n",
    "\n",
    "We will use finite differencies to estimate the response $R$:\n",
    "```math\n",
    "R = \\frac{\\partial e}{\\partial \\gamma} \\approx \\frac{e_{i}^{+} - e_{i}^{-}}{\\Delta \\gamma_{i}}\n",
    "```\n",
    "with $e_{i}^{+}$ the ellipticity measured on an image with $+\\gamma_{i}$ applied and similarly $e_{i}^{-}$ with $-\\gamma_{i}$. Now we will see how to applied an articial shear in practice.\n",
    "\n",
    "We want to apply a shear to the galaxy and to the galaxy **only**. That means we need to deconvolve the galaxy from the PSF first then apply a shear and reconvolve by a PSF. The re-convolved PSF has to be slightly larger than the original one to smooth out the amplified noise due to the deconvolution (we'll talk more about the noise later). Appart from being larger, the reconvolve can be anything, so we can choose a profile that simplify the shape measurement such as an isotropic Gaussian.\n",
    "\n",
    "![_](notebook_data/metacal_workflow.png)"
   ]
  },
  {
   "cell_type": "markdown",
   "id": "f11349ba",
   "metadata": {},
   "source": [
    "#### Step 1: Deconvolution\n",
    "In ngmix: [_set_data](https://github.com/esheldon/ngmix/blob/d08b471f4c4d5887df9f9f2551efaf8f2e226150/ngmix/metacal/metacal.py#L386)"
   ]
  },
  {
   "cell_type": "code",
   "execution_count": 2,
   "id": "fd57e39f",
   "metadata": {},
   "outputs": [],
   "source": [
    "pixel_scale = 0.2\n",
    "psf_model = \"gauss\"\n",
    "psf_fwhm = 0.6\n",
    "gal, psf, _ = make_data_metacal_simple(\n",
    "    pixel_scale=pixel_scale,\n",
    "    psf_model=psf_model,\n",
    "    psf_fwhm=psf_fwhm,\n",
    "    do_shift=False,\n",
    ")"
   ]
  },
  {
   "cell_type": "code",
   "execution_count": 3,
   "id": "aef3a678",
   "metadata": {},
   "outputs": [],
   "source": [
    "# Interpolate the galaxy image and the PSF\n",
    "gal_interp = galsim.InterpolatedImage(galsim.Image(gal, scale=pixel_scale))\n",
    "psf_interp = galsim.InterpolatedImage(galsim.Image(psf, scale=pixel_scale))"
   ]
  },
  {
   "cell_type": "code",
   "execution_count": 4,
   "id": "693e02e4",
   "metadata": {},
   "outputs": [],
   "source": [
    "# Deconvolve the galaxy image from the PSF\n",
    "psf_deconv = galsim.Deconvolve(psf_interp)\n",
    "gal_deconv = galsim.Convolve(gal_interp, psf_deconv)"
   ]
  },
  {
   "cell_type": "code",
   "execution_count": 5,
   "id": "7864ae17",
   "metadata": {},
   "outputs": [],
   "source": [
    "# Get pixelization\n",
    "pixel = galsim.Pixel(pixel_scale)"
   ]
  },
  {
   "cell_type": "markdown",
   "id": "8be29af5",
   "metadata": {},
   "source": [
    "#### Step 2: Apply shear\n",
    "In ngmix: [get_sheared_image_nopsf](https://github.com/esheldon/ngmix/blob/d08b471f4c4d5887df9f9f2551efaf8f2e226150/ngmix/metacal/metacal.py#L368)"
   ]
  },
  {
   "cell_type": "code",
   "execution_count": 6,
   "id": "10c1b14f",
   "metadata": {},
   "outputs": [],
   "source": [
    "shear = galsim.Shear(g1=0.01, g2=0.0)\n",
    "gal_shear = gal_deconv.shear(shear)"
   ]
  },
  {
   "cell_type": "markdown",
   "id": "a4ab408f",
   "metadata": {},
   "source": [
    "#### Step 3: Reconvolve\n",
    "In ngmix: [_get_target_gal_obj](https://github.com/esheldon/ngmix/blob/d08b471f4c4d5887df9f9f2551efaf8f2e226150/ngmix/metacal/metacal.py#L356)"
   ]
  },
  {
   "cell_type": "code",
   "execution_count": 7,
   "id": "f412d404",
   "metadata": {},
   "outputs": [],
   "source": [
    "# New PSF\n",
    "psf_reconv = galsim.Gaussian(fwhm=psf_fwhm)\n",
    "\n",
    "# Dilate the PSF\n",
    "g = np.sqrt(shear.g1**2 + shear.g2**2)\n",
    "dilation = 1.0 + 2.0*g\n",
    "psf_reconv = psf_reconv.dilate(dilation)\n",
    "\n",
    "# Convolve the new PSF with the pixelization\n",
    "psf_reconv_pixel = galsim.Convolve(psf_reconv, pixel)\n",
    "\n",
    "gal_new = galsim.Convolve(gal_shear, psf_reconv_pixel)\n",
    "\n",
    "\n",
    "psf_mcal = psf_reconv_pixel.drawImage(\n",
    "    nx=psf.shape[1],\n",
    "    ny=psf.shape[0],\n",
    "    scale=pixel_scale,\n",
    "    method='no_pixel',\n",
    ").array"
   ]
  },
  {
   "cell_type": "markdown",
   "id": "dc5dcec2",
   "metadata": {},
   "source": [
    "#### Step 4: Draw the new object\n",
    "In ngmix: [get_target_image](https://github.com/esheldon/ngmix/blob/d08b471f4c4d5887df9f9f2551efaf8f2e226150/ngmix/metacal/metacal.py#L320)"
   ]
  },
  {
   "cell_type": "code",
   "execution_count": 8,
   "id": "4b5eb421",
   "metadata": {},
   "outputs": [],
   "source": [
    "# Draw the object in 'no_pixel' mode as it would be included in the PSF already\n",
    "gal_mcal = gal_new.drawImage(\n",
    "    nx=gal.shape[1],\n",
    "    ny=gal.shape[0],\n",
    "    scale=pixel_scale,\n",
    "    method='no_pixel',\n",
    ").array"
   ]
  },
  {
   "cell_type": "code",
   "execution_count": 9,
   "id": "f18cfdf2",
   "metadata": {},
   "outputs": [
    {
     "data": {
      "text/plain": [
       "Text(0.5, 1.0, 'img_sheared')"
      ]
     },
     "execution_count": 9,
     "metadata": {},
     "output_type": "execute_result"
    },
    {
     "data": {
      "image/png": "[encoded data removed]",
      "text/plain": [
       "<Figure size 640x480 with 2 Axes>"
      ]
     },
     "metadata": {},
     "output_type": "display_data"
    }
   ],
   "source": [
    "plt.imshow(gal_mcal)\n",
    "plt.colorbar()\n",
    "plt.title(\"img_sheared\")"
   ]
  },
  {
   "cell_type": "code",
   "execution_count": 10,
   "id": "67baf3d3",
   "metadata": {},
   "outputs": [
    {
     "name": "stdout",
     "output_type": "stream",
     "text": [
      "We check that we recover the shear we have applied:\n",
      "Input shear:\n",
      "g1=0.009756677024762479    target: 0.01\n",
      "g2=4.9793677427602535e-05  target: 0.0\n"
     ]
    }
   ],
   "source": [
    "meas_shape = galsim.hsm.EstimateShear(galsim.Image(gal_mcal, scale=pixel_scale), galsim.Image(psf_mcal, scale=pixel_scale))\n",
    "s = galsim.Shear(e1=meas_shape.corrected_e1, e2=meas_shape.corrected_e2)\n",
    "print(\"We check that we recover the shear we have applied:\")\n",
    "print(f\"Input shear:\\ng1={s.g1}    target: 0.01\\ng2={s.g2}  target: 0.0\")"
   ]
  },
  {
   "cell_type": "markdown",
   "id": "640e1e53",
   "metadata": {},
   "source": [
    "### We can check the applied shear by making a \"perfect\" metacalibrated image"
   ]
  },
  {
   "cell_type": "code",
   "execution_count": 11,
   "id": "84e0185a",
   "metadata": {},
   "outputs": [],
   "source": [
    "gal_mcal_perf, psf_mcal_perf, _ = make_data_metacal_simple(\n",
    "    g1=0.01,\n",
    "    g2=0.0,\n",
    "    psf_model=\"gauss\",\n",
    "    psf_fwhm=psf_fwhm*dilation,\n",
    "    do_shift=False,\n",
    ")"
   ]
  },
  {
   "cell_type": "code",
   "execution_count": 12,
   "id": "c86cbd1d",
   "metadata": {},
   "outputs": [
    {
     "data": {
      "text/plain": [
       "Text(0.5, 1.0, 'img_sheared - img_perfect')"
      ]
     },
     "execution_count": 12,
     "metadata": {},
     "output_type": "execute_result"
    },
    {
     "data": {
      "image/png": "[encoded data removed]",
      "text/plain": [
       "<Figure size 640x480 with 2 Axes>"
      ]
     },
     "metadata": {},
     "output_type": "display_data"
    }
   ],
   "source": [
    "plt.imshow(gal_mcal - gal_mcal_perf)\n",
    "plt.colorbar()\n",
    "plt.title(\"img_sheared - img_perfect\")"
   ]
  },
  {
   "cell_type": "markdown",
   "id": "2297e554",
   "metadata": {},
   "source": [
    "## Now we can do it automatically with ngmix"
   ]
  },
  {
   "cell_type": "code",
   "execution_count": 13,
   "id": "9ec8256b",
   "metadata": {},
   "outputs": [],
   "source": [
    "pixel_scale = 0.2\n",
    "noise_sigma = 1e-5\n",
    "gal, psf, _ = make_data_metacal_simple(\n",
    "    psf_model=psf_model,\n",
    "    psf_fwhm=psf_fwhm,\n",
    "    noise_sigma=noise_sigma,\n",
    "    pixel_scale=pixel_scale,\n",
    "    do_shift=False,\n",
    ")"
   ]
  },
  {
   "cell_type": "markdown",
   "id": "740ea12c",
   "metadata": {},
   "source": [
    "ngmix works with [**Observation**](https://github.com/esheldon/ngmix/blob/d08b471f4c4d5887df9f9f2551efaf8f2e226150/ngmix/observation.py#L66)"
   ]
  },
  {
   "cell_type": "code",
   "execution_count": 14,
   "id": "0a42a132",
   "metadata": {},
   "outputs": [],
   "source": [
    "img_shape = gal.shape\n",
    "psf_shape = psf.shape\n",
    "\n",
    "img_center = ((img_shape[1]-1)/2., (img_shape[0]-1)/2.)\n",
    "psf_center = ((psf_shape[1]-1)/2., (psf_shape[0]-1)/2.)\n",
    "\n",
    "# Ngmix handles the WCS with a Jacobian transformation\n",
    "img_jacob = ngmix.DiagonalJacobian(\n",
    "    row=img_center[1],\n",
    "    col=img_center[0],\n",
    "    scale=pixel_scale,\n",
    ")\n",
    "psf_jacob = ngmix.DiagonalJacobian(\n",
    "    row=psf_center[1],\n",
    "    col=psf_center[0],\n",
    "    scale=pixel_scale,\n",
    ")\n",
    "\n",
    "# We first create a PSF observation\n",
    "psf_obs = ngmix.Observation(\n",
    "    image=psf,\n",
    "    jacobian=psf_jacob,\n",
    ")\n",
    "\n",
    "# Then we create the object observation and we pass the PSF observation\n",
    "obs = ngmix.Observation(\n",
    "    image=gal,\n",
    "    weight=np.ones(img_shape) * 1/noise_sigma**2,  # Weights are inverse variance\n",
    "    jacobian=img_jacob,\n",
    "    psf=psf_obs,\n",
    ")"
   ]
  },
  {
   "cell_type": "markdown",
   "id": "5b833ed1",
   "metadata": {},
   "source": [
    "Now we can create the metacalibrated images  \n",
    "Ngmix: [get_all_metacal](https://github.com/esheldon/ngmix/blob/d08b471f4c4d5887df9f9f2551efaf8f2e226150/ngmix/metacal/convenience.py#L16)"
   ]
  },
  {
   "cell_type": "code",
   "execution_count": 15,
   "id": "1c883e89",
   "metadata": {},
   "outputs": [],
   "source": [
    "rng = np.random.RandomState(42)\n",
    "\n",
    "obs_mcal = ngmix.metacal.get_all_metacal(\n",
    "    obs,\n",
    "    psf=\"fitgauss\",\n",
    "    step=0.01,\n",
    "    fixnoise=True, # We will see justr after the effect of this\n",
    "    types=[\"noshear\", \"1p\"],\n",
    "    rng=rng,\n",
    ")"
   ]
  },
  {
   "cell_type": "code",
   "execution_count": 16,
   "id": "9ad1bb27",
   "metadata": {},
   "outputs": [
    {
     "data": {
      "text/plain": [
       "Text(0.5, 1.0, '1p - noshear')"
      ]
     },
     "execution_count": 16,
     "metadata": {},
     "output_type": "execute_result"
    },
    {
     "data": {
      "image/png": "[encoded data removed]",
      "text/plain": [
       "<Figure size 640x480 with 2 Axes>"
      ]
     },
     "metadata": {},
     "output_type": "display_data"
    }
   ],
   "source": [
    "plt.imshow(obs_mcal[\"1p\"].image - obs_mcal[\"noshear\"].image)\n",
    "plt.colorbar()\n",
    "plt.title(\"1p - noshear\")"
   ]
  },
  {
   "cell_type": "code",
   "execution_count": 17,
   "id": "d623407f",
   "metadata": {},
   "outputs": [
    {
     "name": "stdout",
     "output_type": "stream",
     "text": [
      "We check that we recover the shear we have applied:\n",
      "Input shear:\n",
      "g1=0.009514593384166202  target: 0.01\n",
      "g2=9.39761394665894e-05  target: 0.0\n"
     ]
    }
   ],
   "source": [
    "meas_shape = galsim.hsm.EstimateShear(galsim.Image(obs_mcal[\"1p\"].image, scale=pixel_scale), galsim.Image(obs_mcal[\"1p\"].psf.image, scale=pixel_scale))\n",
    "s = galsim.Shear(e1=meas_shape.corrected_e1, e2=meas_shape.corrected_e2)\n",
    "print(\"We check that we recover the shear we have applied:\")\n",
    "print(f\"Input shear:\\ng1={s.g1}  target: 0.01\\ng2={s.g2}  target: 0.0\")"
   ]
  },
  {
   "cell_type": "markdown",
   "id": "3bb0c1e3",
   "metadata": {},
   "source": [
    "We can compare the image mage through ngmix to the \"perfect\" sheared image"
   ]
  },
  {
   "cell_type": "code",
   "execution_count": 18,
   "id": "17af459d",
   "metadata": {},
   "outputs": [
    {
     "data": {
      "text/plain": [
       "Text(0.5, 1.0, '1p_ngmix - 1p_perfect')"
      ]
     },
     "execution_count": 18,
     "metadata": {},
     "output_type": "execute_result"
    },
    {
     "data": {
      "image/png": "[encoded data removed]",
      "text/plain": [
       "<Figure size 640x480 with 2 Axes>"
      ]
     },
     "metadata": {},
     "output_type": "display_data"
    }
   ],
   "source": [
    "plt.imshow(obs_mcal[\"1p\"].image - gal_mcal_perf)\n",
    "plt.colorbar()\n",
    "plt.title(\"1p_ngmix - 1p_perfect\")"
   ]
  },
  {
   "cell_type": "markdown",
   "id": "a360d9a4",
   "metadata": {},
   "source": [
    "## What about the noise?"
   ]
  },
  {
   "cell_type": "markdown",
   "id": "622f46a6",
   "metadata": {},
   "source": [
    "We re-create the data but this time we replace the object by pure noise"
   ]
  },
  {
   "cell_type": "code",
   "execution_count": 19,
   "id": "ab1ce9bc",
   "metadata": {},
   "outputs": [],
   "source": [
    "noise_sigma = 1e-1\n",
    "noise_image = make_noise_data(\n",
    "    noise_sigma=noise_sigma,\n",
    ")\n",
    "_, psf, _ = make_data_metacal_simple(\n",
    "    psf_model=psf_model,\n",
    "    psf_fwhm=psf_fwhm,\n",
    "    noise_sigma=noise_sigma,\n",
    "    pixel_scale=pixel_scale,\n",
    "    do_shift=False,\n",
    ")"
   ]
  },
  {
   "cell_type": "code",
   "execution_count": 20,
   "id": "70322dd8",
   "metadata": {},
   "outputs": [],
   "source": [
    "img_shape = noise_image.shape\n",
    "psf_shape = psf.shape\n",
    "\n",
    "img_center = ((img_shape[1]-1)/2., (img_shape[0]-1)/2.)\n",
    "psf_center = ((psf_shape[1]-1)/2., (psf_shape[0]-1)/2.)\n",
    "\n",
    "# Ngmix handles the WCS with a Jacobian transformation\n",
    "img_jacob = ngmix.DiagonalJacobian(\n",
    "    row=img_center[1],\n",
    "    col=img_center[0],\n",
    "    scale=pixel_scale,\n",
    ")\n",
    "psf_jacob = ngmix.DiagonalJacobian(\n",
    "    row=psf_center[1],\n",
    "    col=psf_center[0],\n",
    "    scale=pixel_scale,\n",
    ")\n",
    "\n",
    "# We first create a PSF observation\n",
    "psf_obs = ngmix.Observation(\n",
    "    image=psf,\n",
    "    jacobian=psf_jacob,\n",
    ")\n",
    "\n",
    "# Then we create the object observation and we pass the PSF observation\n",
    "obs = ngmix.Observation(\n",
    "    image=noise_image,\n",
    "    weight=np.ones(img_shape) * 1/noise_sigma**2,  # Weights are inverse variance\n",
    "    jacobian=img_jacob,\n",
    "    psf=psf_obs,\n",
    ")"
   ]
  },
  {
   "cell_type": "markdown",
   "id": "59ce654c",
   "metadata": {},
   "source": [
    "Now we run **Metacalibration** with and without the `fixnoise` correction  \n",
    "In ngmix: [_get_all_metacal_fixnoise](https://github.com/esheldon/ngmix/blob/d08b471f4c4d5887df9f9f2551efaf8f2e226150/ngmix/metacal/convenience.py#L190)\n",
    "\n",
    "How the `fixnoise` correction works in practice:\n",
    "- Step 1: make a noise image (or use a provided noise image)\n",
    "- Step 2: rotate the noise image by 90 degrees\n",
    "- Step 3: apply metacalibration process\n",
    "  - deconvolution\n",
    "  - shearing\n",
    "  - reconvolution\n",
    "- Step 4: rotate back the image by 90 degrees\n",
    "- Step 5: add this noise to the image\n",
    "\n",
    "Doing this symmetrizes the correlated noise due to deconvolution and shearing"
   ]
  },
  {
   "cell_type": "code",
   "execution_count": 21,
   "id": "cb97569f",
   "metadata": {},
   "outputs": [],
   "source": [
    "rng = np.random.RandomState(42)\n",
    "\n",
    "obs_mcal_no_fixnoise = ngmix.metacal.get_all_metacal(\n",
    "    obs,\n",
    "    psf=\"fitgauss\",\n",
    "    step=0.1,  # We do this emphasize the impact on the noise\n",
    "    fixnoise=False,\n",
    "    types=[\"noshear\", \"1p\"],\n",
    "    rng=rng,\n",
    ")\n",
    "\n",
    "obs_mcal_fixnoise = ngmix.metacal.get_all_metacal(\n",
    "    obs,\n",
    "    psf=\"fitgauss\",\n",
    "    step=0.1,  # We do this emphasize the impact on the noise\n",
    "    fixnoise=True,\n",
    "    types=[\"noshear\", \"1p\"],\n",
    "    rng=rng,\n",
    ")"
   ]
  },
  {
   "cell_type": "markdown",
   "id": "91a46376",
   "metadata": {},
   "source": [
    "Compute the correlation in the noise"
   ]
  },
  {
   "cell_type": "code",
   "execution_count": 22,
   "id": "8df779cd",
   "metadata": {},
   "outputs": [],
   "source": [
    "corr_orig = compute_noise_correlation(noise_image)\n",
    "corr_no_fixnoise = compute_noise_correlation(obs_mcal_no_fixnoise[\"1p\"].image)\n",
    "corr_fixnoise = compute_noise_correlation(obs_mcal_fixnoise[\"1p\"].image)"
   ]
  },
  {
   "cell_type": "code",
   "execution_count": 23,
   "id": "7efb4884",
   "metadata": {},
   "outputs": [
    {
     "data": {
      "text/plain": [
       "Text(0.5, 1.0, 'With fixnoise correction')"
      ]
     },
     "execution_count": 23,
     "metadata": {},
     "output_type": "execute_result"
    },
    {
     "data": {
      "image/png": "[encoded data removed]",
      "text/plain": [
       "<Figure size 1500x500 with 3 Axes>"
      ]
     },
     "metadata": {},
     "output_type": "display_data"
    }
   ],
   "source": [
    "fig, axs = plt.subplots(1, 3, figsize=(15, 5))\n",
    "axs[0].imshow(corr_orig)\n",
    "axs[0].set_title(\"Original noise correlation\")\n",
    "\n",
    "axs[1].imshow(corr_no_fixnoise)\n",
    "axs[1].set_title(\"No fixnoise correction\")\n",
    "\n",
    "axs[2].imshow(corr_fixnoise)\n",
    "axs[2].set_title(\"With fixnoise correction\")"
   ]
  },
  {
   "cell_type": "markdown",
   "id": "e32a8a30",
   "metadata": {},
   "source": [
    "## Response matrix and selection effects\n",
    "\n",
    "The total shear response is: $R^{\\rm{total}} = R^{\\rm{shear}} + R^{\\rm{selection}}$\n",
    "\n",
    "\n",
    "#### The shear response\n",
    "\n",
    "```math\n",
    "R^{\\rm{shear}}_{ij} = \\langle \\frac{e^{+,M^{+}}_{i} - e^{-,M^{-}}_{j}}{\\Delta g_{j}} \\rangle\n",
    "```\n",
    "\n",
    "Example:\n",
    "```math\n",
    "R^{\\rm{shear}}_{11} = \\langle \\frac{e^{\\rm{1p}, M^{\\rm{1p}}}_{1} - e^{\\rm{1m}, M^{\\rm{1m}}}_{1}}{0.02} \\rangle\n",
    "```\n",
    "\n",
    "Here $M^{X}$ is the selection mask for the sheared image $X$.\n",
    "\n",
    "#### The selection response\n",
    "\n",
    "```math\n",
    "R^{\\rm{selection}}_{ij} = \\frac{\\langle e^{0,M^{+}}_{i} \\rangle - \\langle e^{0,M^{-}}_{j} \\rangle}{\\Delta g_{j}}\n",
    "```\n",
    "\n",
    "Example:\n",
    "```math\n",
    "R^{\\rm{selection}}_{11} = \\frac{\\langle e^{\\rm{ns}, M^{\\rm{1p}}}_{1} \\rangle - \\langle e^{\\rm{ns}, M^{\\rm{1m}} \\rangle}_{1}}{0.02}\n",
    "```\n",
    "\n",
    "For the selection response the average is moved to each sheared ellipticity as: $\\rm{lenght}(e^{\\rm{ns}, M^{\\rm{1p}}}_{1}) \\neq \\rm{lenght}(e^{\\rm{ns}, M^{\\rm{1m}}}_{1})$\n",
    "\n",
    "#### The \"Metadetection way\" which do both at the same time\n",
    "\n",
    "```math\n",
    "R^{\\rm{total}}_{ij} = \\frac{\\langle e^{+,M^{+}}_{i} \\rangle - \\langle e^{-,M^{-}}_{j} \\rangle}{\\Delta g_{j}}\n",
    "```\n",
    "\n",
    "Example:\n",
    "```math\n",
    "R^{\\rm{total}}_{11} = \\frac{\\langle e^{\\rm{1p}, M^{\\rm{1p}}}_{1} \\rangle - \\langle e^{\\rm{1m}, M^{\\rm{1m}} \\rangle}_{1}}{0.02}\n",
    "```\n",
    "\n",
    "For Metadetection we cannot compute the shear response as described above as: $\\rm{lenght}(e^{\\rm{1p}}_{1}) \\neq \\rm{lenght}(e^{\\rm{1m}}_{1})$"
   ]
  },
  {
   "cell_type": "markdown",
   "id": "2fcfbbe5",
   "metadata": {},
   "source": [
    "## Measuring multiplicative bias"
   ]
  },
  {
   "cell_type": "markdown",
   "id": "3b742157",
   "metadata": {},
   "source": [
    "#### Simulation setup:\n",
    "\n",
    "- Galaxy: *Exp*\n",
    "- PSF: *Moffat*\n",
    "- $\\sigma_{\\rm{noise}}$: $1e^{-5}$\n",
    "\n",
    "#### Shape measurement:\n",
    "\n",
    "Fitter: Adaptive moments\n",
    "\n",
    "\n",
    "\n",
    "### Without Metacalibration"
   ]
  },
  {
   "cell_type": "code",
   "execution_count": 24,
   "id": "9df5e2b6",
   "metadata": {},
   "outputs": [
    {
     "name": "stdout",
     "output_type": "stream",
     "text": [
      "\n"
     ]
    },
    {
     "data": {
      "application/vnd.jupyter.widget-view+json": {
       "model_id": "d84d231404a04bbcb1d110411287928d",
       "version_major": 2,
       "version_minor": 0
      },
      "text/plain": [
       "  0%|          | 0/1000 [00:00<?, ?it/s]"
      ]
     },
     "metadata": {},
     "output_type": "display_data"
    },
    {
     "name": "stdout",
     "output_type": "stream",
     "text": [
      "time per: 0.0034095861911773682\n"
     ]
    },
    {
     "data": {
      "application/vnd.jupyter.widget-view+json": {
       "model_id": "b9997a74d2c64e6cbce27a3806ddc184",
       "version_major": 2,
       "version_minor": 0
      },
      "text/plain": [
       "  0%|          | 0/2 [00:00<?, ?it/s]"
      ]
     },
     "metadata": {},
     "output_type": "display_data"
    },
    {
     "name": "stdout",
     "output_type": "stream",
     "text": [
      "\n",
      "\n",
      "m [1e-3, 3sigma]: -802.3419273404653 +/- 0.3982609374776347\n",
      "c [1e-5, 3sigma]: 0.1275478594838146 +/- 0.7017740643142522\n"
     ]
    }
   ],
   "source": [
    "test_shear_meas(1000, simu_runner_no_mcal, meas_m_c_cancel)"
   ]
  },
  {
   "cell_type": "markdown",
   "id": "53cfa19f",
   "metadata": {},
   "source": [
    "### With Metacalibration"
   ]
  },
  {
   "cell_type": "code",
   "execution_count": 25,
   "id": "5d27467e",
   "metadata": {},
   "outputs": [
    {
     "name": "stdout",
     "output_type": "stream",
     "text": [
      "\n"
     ]
    },
    {
     "data": {
      "application/vnd.jupyter.widget-view+json": {
       "model_id": "bcd4a9d03eba422ba99dd1c1ffe26ac6",
       "version_major": 2,
       "version_minor": 0
      },
      "text/plain": [
       "  0%|          | 0/1000 [00:00<?, ?it/s]"
      ]
     },
     "metadata": {},
     "output_type": "display_data"
    },
    {
     "name": "stdout",
     "output_type": "stream",
     "text": [
      "time per: 0.0019885828495025634\n"
     ]
    },
    {
     "data": {
      "application/vnd.jupyter.widget-view+json": {
       "model_id": "32fcfb78192d442da6e624634eb6e273",
       "version_major": 2,
       "version_minor": 0
      },
      "text/plain": [
       "  0%|          | 0/2 [00:00<?, ?it/s]"
      ]
     },
     "metadata": {},
     "output_type": "display_data"
    },
    {
     "name": "stdout",
     "output_type": "stream",
     "text": [
      "\n",
      "\n",
      "m [1e-3, 3sigma]: -0.2647252890080054 +/- 1.9262911803605842\n",
      "c [1e-5, 3sigma]: 0.3467828093296841 +/- 4.334486661252663\n"
     ]
    }
   ],
   "source": [
    "test_shear_meas(1000, simu_runner_mcal, meas_m_c_cancel_mcal)"
   ]
  },
  {
   "cell_type": "code",
   "execution_count": null,
   "id": "cc35666c",
   "metadata": {},
   "outputs": [],
   "source": []
  }
 ],
 "metadata": {
  "kernelspec": {
   "display_name": "tutorial_metadetect",
   "language": "python",
   "name": "python3"
  },
  "language_info": {
   "codemirror_mode": {
    "name": "ipython",
    "version": 3
   },
   "file_extension": ".py",
   "mimetype": "text/x-python",
   "name": "python",
   "nbconvert_exporter": "python",
   "pygments_lexer": "ipython3",
   "version": "3.13.5"
  }
 },
 "nbformat": 4,
 "nbformat_minor": 5
}
